{
 "cells": [
  {
   "cell_type": "code",
   "execution_count": 1,
   "id": "e8f5ee33",
   "metadata": {},
   "outputs": [],
   "source": [
    "import plotly.io as pio\n",
    "\n",
    "pio.renderers.default = \"vscode+jupyterlab+notebook_connected\""
   ]
  },
  {
   "cell_type": "markdown",
   "id": "388d5504-a26a-4e14-b894-1646b590a016",
   "metadata": {},
   "source": [
    "# **Project 1: Tourist/visitors arrivals by country**"
   ]
  },
  {
   "cell_type": "markdown",
   "id": "374734b1-2310-4ecf-95af-b61e6f4d467b",
   "metadata": {},
   "source": [
    "This project analyzes tourist and visitor arrivals by country for a specified year using data from the United Nations. The goal is to understand patterns in international tourism by examining the volume of visitors arriving in various countries.\n",
    "\n",
    "Date resource: [UNdata - Tourist/visitor arrivals and tourism expenditure](https://data.un.org/)"
   ]
  },
  {
   "cell_type": "markdown",
   "id": "4d4e0098-ad9e-4502-b646-a4a51f4632bc",
   "metadata": {},
   "source": [
    "### **1. Using Pandas**"
   ]
  },
  {
   "cell_type": "markdown",
   "id": "3ad7b756-4e57-4017-910a-4911c297d4c4",
   "metadata": {},
   "source": [
    "**Step1: Read in the Data**"
   ]
  },
  {
   "cell_type": "markdown",
   "id": "d20e923f-b2da-4323-94ba-152717f70209",
   "metadata": {},
   "source": [
    "Use pandas to load the dataset, ensuring the encoding is set to ISO-8859-1 to properly process any special characters in the file."
   ]
  },
  {
   "cell_type": "code",
   "execution_count": 2,
   "id": "5125eff7-dda7-4c9d-8396-d9ae5482a41d",
   "metadata": {},
   "outputs": [
    {
     "ename": "FileNotFoundError",
     "evalue": "[Errno 2] No such file or directory: 'SYB66_176_202310_Tourist-Visitors Arrival and Expenditure.csv'",
     "output_type": "error",
     "traceback": [
      "\u001b[1;31m---------------------------------------------------------------------------\u001b[0m",
      "\u001b[1;31mFileNotFoundError\u001b[0m                         Traceback (most recent call last)",
      "Cell \u001b[1;32mIn[2], line 3\u001b[0m\n\u001b[0;32m      1\u001b[0m \u001b[38;5;28;01mimport\u001b[39;00m \u001b[38;5;21;01mpandas\u001b[39;00m \u001b[38;5;28;01mas\u001b[39;00m \u001b[38;5;21;01mpd\u001b[39;00m\n\u001b[1;32m----> 3\u001b[0m df \u001b[38;5;241m=\u001b[39m pd\u001b[38;5;241m.\u001b[39mread_csv(\u001b[38;5;124m'\u001b[39m\u001b[38;5;124mSYB66_176_202310_Tourist-Visitors Arrival and Expenditure.csv\u001b[39m\u001b[38;5;124m'\u001b[39m, encoding\u001b[38;5;241m=\u001b[39m\u001b[38;5;124m'\u001b[39m\u001b[38;5;124mISO-8859-1\u001b[39m\u001b[38;5;124m'\u001b[39m)\n",
      "File \u001b[1;32mc:\\Users\\ankmh\\anaconda3\\Lib\\site-packages\\pandas\\io\\parsers\\readers.py:1026\u001b[0m, in \u001b[0;36mread_csv\u001b[1;34m(filepath_or_buffer, sep, delimiter, header, names, index_col, usecols, dtype, engine, converters, true_values, false_values, skipinitialspace, skiprows, skipfooter, nrows, na_values, keep_default_na, na_filter, verbose, skip_blank_lines, parse_dates, infer_datetime_format, keep_date_col, date_parser, date_format, dayfirst, cache_dates, iterator, chunksize, compression, thousands, decimal, lineterminator, quotechar, quoting, doublequote, escapechar, comment, encoding, encoding_errors, dialect, on_bad_lines, delim_whitespace, low_memory, memory_map, float_precision, storage_options, dtype_backend)\u001b[0m\n\u001b[0;32m   1013\u001b[0m kwds_defaults \u001b[38;5;241m=\u001b[39m _refine_defaults_read(\n\u001b[0;32m   1014\u001b[0m     dialect,\n\u001b[0;32m   1015\u001b[0m     delimiter,\n\u001b[1;32m   (...)\u001b[0m\n\u001b[0;32m   1022\u001b[0m     dtype_backend\u001b[38;5;241m=\u001b[39mdtype_backend,\n\u001b[0;32m   1023\u001b[0m )\n\u001b[0;32m   1024\u001b[0m kwds\u001b[38;5;241m.\u001b[39mupdate(kwds_defaults)\n\u001b[1;32m-> 1026\u001b[0m \u001b[38;5;28;01mreturn\u001b[39;00m _read(filepath_or_buffer, kwds)\n",
      "File \u001b[1;32mc:\\Users\\ankmh\\anaconda3\\Lib\\site-packages\\pandas\\io\\parsers\\readers.py:620\u001b[0m, in \u001b[0;36m_read\u001b[1;34m(filepath_or_buffer, kwds)\u001b[0m\n\u001b[0;32m    617\u001b[0m _validate_names(kwds\u001b[38;5;241m.\u001b[39mget(\u001b[38;5;124m\"\u001b[39m\u001b[38;5;124mnames\u001b[39m\u001b[38;5;124m\"\u001b[39m, \u001b[38;5;28;01mNone\u001b[39;00m))\n\u001b[0;32m    619\u001b[0m \u001b[38;5;66;03m# Create the parser.\u001b[39;00m\n\u001b[1;32m--> 620\u001b[0m parser \u001b[38;5;241m=\u001b[39m TextFileReader(filepath_or_buffer, \u001b[38;5;241m*\u001b[39m\u001b[38;5;241m*\u001b[39mkwds)\n\u001b[0;32m    622\u001b[0m \u001b[38;5;28;01mif\u001b[39;00m chunksize \u001b[38;5;129;01mor\u001b[39;00m iterator:\n\u001b[0;32m    623\u001b[0m     \u001b[38;5;28;01mreturn\u001b[39;00m parser\n",
      "File \u001b[1;32mc:\\Users\\ankmh\\anaconda3\\Lib\\site-packages\\pandas\\io\\parsers\\readers.py:1620\u001b[0m, in \u001b[0;36mTextFileReader.__init__\u001b[1;34m(self, f, engine, **kwds)\u001b[0m\n\u001b[0;32m   1617\u001b[0m     \u001b[38;5;28mself\u001b[39m\u001b[38;5;241m.\u001b[39moptions[\u001b[38;5;124m\"\u001b[39m\u001b[38;5;124mhas_index_names\u001b[39m\u001b[38;5;124m\"\u001b[39m] \u001b[38;5;241m=\u001b[39m kwds[\u001b[38;5;124m\"\u001b[39m\u001b[38;5;124mhas_index_names\u001b[39m\u001b[38;5;124m\"\u001b[39m]\n\u001b[0;32m   1619\u001b[0m \u001b[38;5;28mself\u001b[39m\u001b[38;5;241m.\u001b[39mhandles: IOHandles \u001b[38;5;241m|\u001b[39m \u001b[38;5;28;01mNone\u001b[39;00m \u001b[38;5;241m=\u001b[39m \u001b[38;5;28;01mNone\u001b[39;00m\n\u001b[1;32m-> 1620\u001b[0m \u001b[38;5;28mself\u001b[39m\u001b[38;5;241m.\u001b[39m_engine \u001b[38;5;241m=\u001b[39m \u001b[38;5;28mself\u001b[39m\u001b[38;5;241m.\u001b[39m_make_engine(f, \u001b[38;5;28mself\u001b[39m\u001b[38;5;241m.\u001b[39mengine)\n",
      "File \u001b[1;32mc:\\Users\\ankmh\\anaconda3\\Lib\\site-packages\\pandas\\io\\parsers\\readers.py:1880\u001b[0m, in \u001b[0;36mTextFileReader._make_engine\u001b[1;34m(self, f, engine)\u001b[0m\n\u001b[0;32m   1878\u001b[0m     \u001b[38;5;28;01mif\u001b[39;00m \u001b[38;5;124m\"\u001b[39m\u001b[38;5;124mb\u001b[39m\u001b[38;5;124m\"\u001b[39m \u001b[38;5;129;01mnot\u001b[39;00m \u001b[38;5;129;01min\u001b[39;00m mode:\n\u001b[0;32m   1879\u001b[0m         mode \u001b[38;5;241m+\u001b[39m\u001b[38;5;241m=\u001b[39m \u001b[38;5;124m\"\u001b[39m\u001b[38;5;124mb\u001b[39m\u001b[38;5;124m\"\u001b[39m\n\u001b[1;32m-> 1880\u001b[0m \u001b[38;5;28mself\u001b[39m\u001b[38;5;241m.\u001b[39mhandles \u001b[38;5;241m=\u001b[39m get_handle(\n\u001b[0;32m   1881\u001b[0m     f,\n\u001b[0;32m   1882\u001b[0m     mode,\n\u001b[0;32m   1883\u001b[0m     encoding\u001b[38;5;241m=\u001b[39m\u001b[38;5;28mself\u001b[39m\u001b[38;5;241m.\u001b[39moptions\u001b[38;5;241m.\u001b[39mget(\u001b[38;5;124m\"\u001b[39m\u001b[38;5;124mencoding\u001b[39m\u001b[38;5;124m\"\u001b[39m, \u001b[38;5;28;01mNone\u001b[39;00m),\n\u001b[0;32m   1884\u001b[0m     compression\u001b[38;5;241m=\u001b[39m\u001b[38;5;28mself\u001b[39m\u001b[38;5;241m.\u001b[39moptions\u001b[38;5;241m.\u001b[39mget(\u001b[38;5;124m\"\u001b[39m\u001b[38;5;124mcompression\u001b[39m\u001b[38;5;124m\"\u001b[39m, \u001b[38;5;28;01mNone\u001b[39;00m),\n\u001b[0;32m   1885\u001b[0m     memory_map\u001b[38;5;241m=\u001b[39m\u001b[38;5;28mself\u001b[39m\u001b[38;5;241m.\u001b[39moptions\u001b[38;5;241m.\u001b[39mget(\u001b[38;5;124m\"\u001b[39m\u001b[38;5;124mmemory_map\u001b[39m\u001b[38;5;124m\"\u001b[39m, \u001b[38;5;28;01mFalse\u001b[39;00m),\n\u001b[0;32m   1886\u001b[0m     is_text\u001b[38;5;241m=\u001b[39mis_text,\n\u001b[0;32m   1887\u001b[0m     errors\u001b[38;5;241m=\u001b[39m\u001b[38;5;28mself\u001b[39m\u001b[38;5;241m.\u001b[39moptions\u001b[38;5;241m.\u001b[39mget(\u001b[38;5;124m\"\u001b[39m\u001b[38;5;124mencoding_errors\u001b[39m\u001b[38;5;124m\"\u001b[39m, \u001b[38;5;124m\"\u001b[39m\u001b[38;5;124mstrict\u001b[39m\u001b[38;5;124m\"\u001b[39m),\n\u001b[0;32m   1888\u001b[0m     storage_options\u001b[38;5;241m=\u001b[39m\u001b[38;5;28mself\u001b[39m\u001b[38;5;241m.\u001b[39moptions\u001b[38;5;241m.\u001b[39mget(\u001b[38;5;124m\"\u001b[39m\u001b[38;5;124mstorage_options\u001b[39m\u001b[38;5;124m\"\u001b[39m, \u001b[38;5;28;01mNone\u001b[39;00m),\n\u001b[0;32m   1889\u001b[0m )\n\u001b[0;32m   1890\u001b[0m \u001b[38;5;28;01massert\u001b[39;00m \u001b[38;5;28mself\u001b[39m\u001b[38;5;241m.\u001b[39mhandles \u001b[38;5;129;01mis\u001b[39;00m \u001b[38;5;129;01mnot\u001b[39;00m \u001b[38;5;28;01mNone\u001b[39;00m\n\u001b[0;32m   1891\u001b[0m f \u001b[38;5;241m=\u001b[39m \u001b[38;5;28mself\u001b[39m\u001b[38;5;241m.\u001b[39mhandles\u001b[38;5;241m.\u001b[39mhandle\n",
      "File \u001b[1;32mc:\\Users\\ankmh\\anaconda3\\Lib\\site-packages\\pandas\\io\\common.py:873\u001b[0m, in \u001b[0;36mget_handle\u001b[1;34m(path_or_buf, mode, encoding, compression, memory_map, is_text, errors, storage_options)\u001b[0m\n\u001b[0;32m    868\u001b[0m \u001b[38;5;28;01melif\u001b[39;00m \u001b[38;5;28misinstance\u001b[39m(handle, \u001b[38;5;28mstr\u001b[39m):\n\u001b[0;32m    869\u001b[0m     \u001b[38;5;66;03m# Check whether the filename is to be opened in binary mode.\u001b[39;00m\n\u001b[0;32m    870\u001b[0m     \u001b[38;5;66;03m# Binary mode does not support 'encoding' and 'newline'.\u001b[39;00m\n\u001b[0;32m    871\u001b[0m     \u001b[38;5;28;01mif\u001b[39;00m ioargs\u001b[38;5;241m.\u001b[39mencoding \u001b[38;5;129;01mand\u001b[39;00m \u001b[38;5;124m\"\u001b[39m\u001b[38;5;124mb\u001b[39m\u001b[38;5;124m\"\u001b[39m \u001b[38;5;129;01mnot\u001b[39;00m \u001b[38;5;129;01min\u001b[39;00m ioargs\u001b[38;5;241m.\u001b[39mmode:\n\u001b[0;32m    872\u001b[0m         \u001b[38;5;66;03m# Encoding\u001b[39;00m\n\u001b[1;32m--> 873\u001b[0m         handle \u001b[38;5;241m=\u001b[39m \u001b[38;5;28mopen\u001b[39m(\n\u001b[0;32m    874\u001b[0m             handle,\n\u001b[0;32m    875\u001b[0m             ioargs\u001b[38;5;241m.\u001b[39mmode,\n\u001b[0;32m    876\u001b[0m             encoding\u001b[38;5;241m=\u001b[39mioargs\u001b[38;5;241m.\u001b[39mencoding,\n\u001b[0;32m    877\u001b[0m             errors\u001b[38;5;241m=\u001b[39merrors,\n\u001b[0;32m    878\u001b[0m             newline\u001b[38;5;241m=\u001b[39m\u001b[38;5;124m\"\u001b[39m\u001b[38;5;124m\"\u001b[39m,\n\u001b[0;32m    879\u001b[0m         )\n\u001b[0;32m    880\u001b[0m     \u001b[38;5;28;01melse\u001b[39;00m:\n\u001b[0;32m    881\u001b[0m         \u001b[38;5;66;03m# Binary mode\u001b[39;00m\n\u001b[0;32m    882\u001b[0m         handle \u001b[38;5;241m=\u001b[39m \u001b[38;5;28mopen\u001b[39m(handle, ioargs\u001b[38;5;241m.\u001b[39mmode)\n",
      "\u001b[1;31mFileNotFoundError\u001b[0m: [Errno 2] No such file or directory: 'SYB66_176_202310_Tourist-Visitors Arrival and Expenditure.csv'"
     ]
    }
   ],
   "source": [
    "import pandas as pd\n",
    "\n",
    "df = pd.read_csv('SYB66_176_202310_Tourist-Visitors Arrival and Expenditure.csv', encoding='ISO-8859-1')"
   ]
  },
  {
   "cell_type": "code",
   "execution_count": null,
   "id": "e8d3db8d-e2a8-451f-8d3a-3071f03221a2",
   "metadata": {},
   "outputs": [
    {
     "data": {
      "text/html": [
       "<div>\n",
       "<style scoped>\n",
       "    .dataframe tbody tr th:only-of-type {\n",
       "        vertical-align: middle;\n",
       "    }\n",
       "\n",
       "    .dataframe tbody tr th {\n",
       "        vertical-align: top;\n",
       "    }\n",
       "\n",
       "    .dataframe thead th {\n",
       "        text-align: right;\n",
       "    }\n",
       "</style>\n",
       "<table border=\"1\" class=\"dataframe\">\n",
       "  <thead>\n",
       "    <tr style=\"text-align: right;\">\n",
       "      <th></th>\n",
       "      <th>T31</th>\n",
       "      <th>Tourist/visitor arrivals and tourism expenditure</th>\n",
       "      <th>Unnamed: 2</th>\n",
       "      <th>Unnamed: 3</th>\n",
       "      <th>Unnamed: 4</th>\n",
       "      <th>Unnamed: 5</th>\n",
       "      <th>Unnamed: 6</th>\n",
       "      <th>Unnamed: 7</th>\n",
       "      <th>Unnamed: 8</th>\n",
       "    </tr>\n",
       "  </thead>\n",
       "  <tbody>\n",
       "    <tr>\n",
       "      <th>0</th>\n",
       "      <td>Region/Country/Area</td>\n",
       "      <td>NaN</td>\n",
       "      <td>Year</td>\n",
       "      <td>Series</td>\n",
       "      <td>Tourism arrivals series type</td>\n",
       "      <td>Tourism arrivals series type footnote</td>\n",
       "      <td>Value</td>\n",
       "      <td>Footnotes</td>\n",
       "      <td>Source</td>\n",
       "    </tr>\n",
       "    <tr>\n",
       "      <th>1</th>\n",
       "      <td>4</td>\n",
       "      <td>Afghanistan</td>\n",
       "      <td>2010</td>\n",
       "      <td>Tourism expenditure (millions of US dollars)</td>\n",
       "      <td>NaN</td>\n",
       "      <td>NaN</td>\n",
       "      <td>147</td>\n",
       "      <td>NaN</td>\n",
       "      <td>World Tourism Organization (UNWTO), Madrid, th...</td>\n",
       "    </tr>\n",
       "    <tr>\n",
       "      <th>2</th>\n",
       "      <td>4</td>\n",
       "      <td>Afghanistan</td>\n",
       "      <td>2019</td>\n",
       "      <td>Tourism expenditure (millions of US dollars)</td>\n",
       "      <td>NaN</td>\n",
       "      <td>NaN</td>\n",
       "      <td>85</td>\n",
       "      <td>NaN</td>\n",
       "      <td>World Tourism Organization (UNWTO), Madrid, th...</td>\n",
       "    </tr>\n",
       "    <tr>\n",
       "      <th>3</th>\n",
       "      <td>4</td>\n",
       "      <td>Afghanistan</td>\n",
       "      <td>2020</td>\n",
       "      <td>Tourism expenditure (millions of US dollars)</td>\n",
       "      <td>NaN</td>\n",
       "      <td>NaN</td>\n",
       "      <td>75</td>\n",
       "      <td>NaN</td>\n",
       "      <td>World Tourism Organization (UNWTO), Madrid, th...</td>\n",
       "    </tr>\n",
       "    <tr>\n",
       "      <th>4</th>\n",
       "      <td>8</td>\n",
       "      <td>Albania</td>\n",
       "      <td>2010</td>\n",
       "      <td>Tourist/visitor arrivals (thousands)</td>\n",
       "      <td>TF</td>\n",
       "      <td>NaN</td>\n",
       "      <td>2,191</td>\n",
       "      <td>Excluding nationals residing abroad.</td>\n",
       "      <td>World Tourism Organization (UNWTO), Madrid, th...</td>\n",
       "    </tr>\n",
       "  </tbody>\n",
       "</table>\n",
       "</div>"
      ],
      "text/plain": [
       "                   T31 Tourist/visitor arrivals and tourism expenditure  \\\n",
       "0  Region/Country/Area                                              NaN   \n",
       "1                    4                                      Afghanistan   \n",
       "2                    4                                      Afghanistan   \n",
       "3                    4                                      Afghanistan   \n",
       "4                    8                                          Albania   \n",
       "\n",
       "  Unnamed: 2                                    Unnamed: 3  \\\n",
       "0       Year                                        Series   \n",
       "1       2010  Tourism expenditure (millions of US dollars)   \n",
       "2       2019  Tourism expenditure (millions of US dollars)   \n",
       "3       2020  Tourism expenditure (millions of US dollars)   \n",
       "4       2010          Tourist/visitor arrivals (thousands)   \n",
       "\n",
       "                     Unnamed: 4                             Unnamed: 5  \\\n",
       "0  Tourism arrivals series type  Tourism arrivals series type footnote   \n",
       "1                           NaN                                    NaN   \n",
       "2                           NaN                                    NaN   \n",
       "3                           NaN                                    NaN   \n",
       "4                            TF                                    NaN   \n",
       "\n",
       "  Unnamed: 6                            Unnamed: 7  \\\n",
       "0      Value                             Footnotes   \n",
       "1        147                                   NaN   \n",
       "2         85                                   NaN   \n",
       "3         75                                   NaN   \n",
       "4      2,191  Excluding nationals residing abroad.   \n",
       "\n",
       "                                          Unnamed: 8  \n",
       "0                                             Source  \n",
       "1  World Tourism Organization (UNWTO), Madrid, th...  \n",
       "2  World Tourism Organization (UNWTO), Madrid, th...  \n",
       "3  World Tourism Organization (UNWTO), Madrid, th...  \n",
       "4  World Tourism Organization (UNWTO), Madrid, th...  "
      ]
     },
     "execution_count": 40,
     "metadata": {},
     "output_type": "execute_result"
    }
   ],
   "source": [
    "df.head()"
   ]
  },
  {
   "cell_type": "markdown",
   "id": "5d382c19-2fe1-41cd-a748-92c796a34a76",
   "metadata": {},
   "source": [
    "**Step2: Data Cleaning**\n",
    "\n",
    "a. Set the first row (index 0) as the header"
   ]
  },
  {
   "cell_type": "code",
   "execution_count": null,
   "id": "53b5296f-6013-4f58-9403-f0708394f21c",
   "metadata": {},
   "outputs": [],
   "source": [
    "import pandas as pd\n",
    "\n",
    "df = pd.read_csv('SYB66_176_202310_Tourist-Visitors Arrival and Expenditure.csv', encoding='ISO-8859-1', header=1)"
   ]
  },
  {
   "cell_type": "code",
   "execution_count": null,
   "id": "b333fd67-e2ca-43de-8979-d4f07d46e213",
   "metadata": {},
   "outputs": [
    {
     "data": {
      "text/html": [
       "<div>\n",
       "<style scoped>\n",
       "    .dataframe tbody tr th:only-of-type {\n",
       "        vertical-align: middle;\n",
       "    }\n",
       "\n",
       "    .dataframe tbody tr th {\n",
       "        vertical-align: top;\n",
       "    }\n",
       "\n",
       "    .dataframe thead th {\n",
       "        text-align: right;\n",
       "    }\n",
       "</style>\n",
       "<table border=\"1\" class=\"dataframe\">\n",
       "  <thead>\n",
       "    <tr style=\"text-align: right;\">\n",
       "      <th></th>\n",
       "      <th>Region/Country/Area</th>\n",
       "      <th>Unnamed: 1</th>\n",
       "      <th>Year</th>\n",
       "      <th>Series</th>\n",
       "      <th>Tourism arrivals series type</th>\n",
       "      <th>Tourism arrivals series type footnote</th>\n",
       "      <th>Value</th>\n",
       "      <th>Footnotes</th>\n",
       "      <th>Source</th>\n",
       "    </tr>\n",
       "  </thead>\n",
       "  <tbody>\n",
       "    <tr>\n",
       "      <th>0</th>\n",
       "      <td>4</td>\n",
       "      <td>Afghanistan</td>\n",
       "      <td>2010</td>\n",
       "      <td>Tourism expenditure (millions of US dollars)</td>\n",
       "      <td>NaN</td>\n",
       "      <td>NaN</td>\n",
       "      <td>147</td>\n",
       "      <td>NaN</td>\n",
       "      <td>World Tourism Organization (UNWTO), Madrid, th...</td>\n",
       "    </tr>\n",
       "    <tr>\n",
       "      <th>1</th>\n",
       "      <td>4</td>\n",
       "      <td>Afghanistan</td>\n",
       "      <td>2019</td>\n",
       "      <td>Tourism expenditure (millions of US dollars)</td>\n",
       "      <td>NaN</td>\n",
       "      <td>NaN</td>\n",
       "      <td>85</td>\n",
       "      <td>NaN</td>\n",
       "      <td>World Tourism Organization (UNWTO), Madrid, th...</td>\n",
       "    </tr>\n",
       "    <tr>\n",
       "      <th>2</th>\n",
       "      <td>4</td>\n",
       "      <td>Afghanistan</td>\n",
       "      <td>2020</td>\n",
       "      <td>Tourism expenditure (millions of US dollars)</td>\n",
       "      <td>NaN</td>\n",
       "      <td>NaN</td>\n",
       "      <td>75</td>\n",
       "      <td>NaN</td>\n",
       "      <td>World Tourism Organization (UNWTO), Madrid, th...</td>\n",
       "    </tr>\n",
       "    <tr>\n",
       "      <th>3</th>\n",
       "      <td>8</td>\n",
       "      <td>Albania</td>\n",
       "      <td>2010</td>\n",
       "      <td>Tourist/visitor arrivals (thousands)</td>\n",
       "      <td>TF</td>\n",
       "      <td>NaN</td>\n",
       "      <td>2,191</td>\n",
       "      <td>Excluding nationals residing abroad.</td>\n",
       "      <td>World Tourism Organization (UNWTO), Madrid, th...</td>\n",
       "    </tr>\n",
       "    <tr>\n",
       "      <th>4</th>\n",
       "      <td>8</td>\n",
       "      <td>Albania</td>\n",
       "      <td>2019</td>\n",
       "      <td>Tourist/visitor arrivals (thousands)</td>\n",
       "      <td>TF</td>\n",
       "      <td>NaN</td>\n",
       "      <td>6,128</td>\n",
       "      <td>Excluding nationals residing abroad.</td>\n",
       "      <td>World Tourism Organization (UNWTO), Madrid, th...</td>\n",
       "    </tr>\n",
       "  </tbody>\n",
       "</table>\n",
       "</div>"
      ],
      "text/plain": [
       "   Region/Country/Area   Unnamed: 1  Year  \\\n",
       "0                    4  Afghanistan  2010   \n",
       "1                    4  Afghanistan  2019   \n",
       "2                    4  Afghanistan  2020   \n",
       "3                    8      Albania  2010   \n",
       "4                    8      Albania  2019   \n",
       "\n",
       "                                         Series Tourism arrivals series type  \\\n",
       "0  Tourism expenditure (millions of US dollars)                          NaN   \n",
       "1  Tourism expenditure (millions of US dollars)                          NaN   \n",
       "2  Tourism expenditure (millions of US dollars)                          NaN   \n",
       "3          Tourist/visitor arrivals (thousands)                           TF   \n",
       "4          Tourist/visitor arrivals (thousands)                           TF   \n",
       "\n",
       "   Tourism arrivals series type footnote  Value  \\\n",
       "0                                    NaN    147   \n",
       "1                                    NaN     85   \n",
       "2                                    NaN     75   \n",
       "3                                    NaN  2,191   \n",
       "4                                    NaN  6,128   \n",
       "\n",
       "                              Footnotes  \\\n",
       "0                                   NaN   \n",
       "1                                   NaN   \n",
       "2                                   NaN   \n",
       "3  Excluding nationals residing abroad.   \n",
       "4  Excluding nationals residing abroad.   \n",
       "\n",
       "                                              Source  \n",
       "0  World Tourism Organization (UNWTO), Madrid, th...  \n",
       "1  World Tourism Organization (UNWTO), Madrid, th...  \n",
       "2  World Tourism Organization (UNWTO), Madrid, th...  \n",
       "3  World Tourism Organization (UNWTO), Madrid, th...  \n",
       "4  World Tourism Organization (UNWTO), Madrid, th...  "
      ]
     },
     "execution_count": 43,
     "metadata": {},
     "output_type": "execute_result"
    }
   ],
   "source": [
    "df.head()"
   ]
  },
  {
   "cell_type": "markdown",
   "id": "998d05a2-43c4-4d9e-a51f-111c29210913",
   "metadata": {},
   "source": [
    "b. Rename the label \"Unnamed:1\" "
   ]
  },
  {
   "cell_type": "code",
   "execution_count": null,
   "id": "0fc905d7-9d54-4cd4-a2ea-8351c96e4c56",
   "metadata": {},
   "outputs": [],
   "source": [
    "df = df.rename(columns={\"Unnamed: 1\": \"Country name\"})"
   ]
  },
  {
   "cell_type": "code",
   "execution_count": null,
   "id": "c5bfa3b1-f6e1-4add-ad65-f2498632fd4a",
   "metadata": {},
   "outputs": [
    {
     "data": {
      "text/html": [
       "<div>\n",
       "<style scoped>\n",
       "    .dataframe tbody tr th:only-of-type {\n",
       "        vertical-align: middle;\n",
       "    }\n",
       "\n",
       "    .dataframe tbody tr th {\n",
       "        vertical-align: top;\n",
       "    }\n",
       "\n",
       "    .dataframe thead th {\n",
       "        text-align: right;\n",
       "    }\n",
       "</style>\n",
       "<table border=\"1\" class=\"dataframe\">\n",
       "  <thead>\n",
       "    <tr style=\"text-align: right;\">\n",
       "      <th></th>\n",
       "      <th>Region/Country/Area</th>\n",
       "      <th>Country name</th>\n",
       "      <th>Year</th>\n",
       "      <th>Series</th>\n",
       "      <th>Tourism arrivals series type</th>\n",
       "      <th>Tourism arrivals series type footnote</th>\n",
       "      <th>Value</th>\n",
       "      <th>Footnotes</th>\n",
       "      <th>Source</th>\n",
       "    </tr>\n",
       "  </thead>\n",
       "  <tbody>\n",
       "    <tr>\n",
       "      <th>0</th>\n",
       "      <td>4</td>\n",
       "      <td>Afghanistan</td>\n",
       "      <td>2010</td>\n",
       "      <td>Tourism expenditure (millions of US dollars)</td>\n",
       "      <td>NaN</td>\n",
       "      <td>NaN</td>\n",
       "      <td>147</td>\n",
       "      <td>NaN</td>\n",
       "      <td>World Tourism Organization (UNWTO), Madrid, th...</td>\n",
       "    </tr>\n",
       "    <tr>\n",
       "      <th>1</th>\n",
       "      <td>4</td>\n",
       "      <td>Afghanistan</td>\n",
       "      <td>2019</td>\n",
       "      <td>Tourism expenditure (millions of US dollars)</td>\n",
       "      <td>NaN</td>\n",
       "      <td>NaN</td>\n",
       "      <td>85</td>\n",
       "      <td>NaN</td>\n",
       "      <td>World Tourism Organization (UNWTO), Madrid, th...</td>\n",
       "    </tr>\n",
       "    <tr>\n",
       "      <th>2</th>\n",
       "      <td>4</td>\n",
       "      <td>Afghanistan</td>\n",
       "      <td>2020</td>\n",
       "      <td>Tourism expenditure (millions of US dollars)</td>\n",
       "      <td>NaN</td>\n",
       "      <td>NaN</td>\n",
       "      <td>75</td>\n",
       "      <td>NaN</td>\n",
       "      <td>World Tourism Organization (UNWTO), Madrid, th...</td>\n",
       "    </tr>\n",
       "    <tr>\n",
       "      <th>3</th>\n",
       "      <td>8</td>\n",
       "      <td>Albania</td>\n",
       "      <td>2010</td>\n",
       "      <td>Tourist/visitor arrivals (thousands)</td>\n",
       "      <td>TF</td>\n",
       "      <td>NaN</td>\n",
       "      <td>2,191</td>\n",
       "      <td>Excluding nationals residing abroad.</td>\n",
       "      <td>World Tourism Organization (UNWTO), Madrid, th...</td>\n",
       "    </tr>\n",
       "    <tr>\n",
       "      <th>4</th>\n",
       "      <td>8</td>\n",
       "      <td>Albania</td>\n",
       "      <td>2019</td>\n",
       "      <td>Tourist/visitor arrivals (thousands)</td>\n",
       "      <td>TF</td>\n",
       "      <td>NaN</td>\n",
       "      <td>6,128</td>\n",
       "      <td>Excluding nationals residing abroad.</td>\n",
       "      <td>World Tourism Organization (UNWTO), Madrid, th...</td>\n",
       "    </tr>\n",
       "  </tbody>\n",
       "</table>\n",
       "</div>"
      ],
      "text/plain": [
       "   Region/Country/Area Country name  Year  \\\n",
       "0                    4  Afghanistan  2010   \n",
       "1                    4  Afghanistan  2019   \n",
       "2                    4  Afghanistan  2020   \n",
       "3                    8      Albania  2010   \n",
       "4                    8      Albania  2019   \n",
       "\n",
       "                                         Series Tourism arrivals series type  \\\n",
       "0  Tourism expenditure (millions of US dollars)                          NaN   \n",
       "1  Tourism expenditure (millions of US dollars)                          NaN   \n",
       "2  Tourism expenditure (millions of US dollars)                          NaN   \n",
       "3          Tourist/visitor arrivals (thousands)                           TF   \n",
       "4          Tourist/visitor arrivals (thousands)                           TF   \n",
       "\n",
       "   Tourism arrivals series type footnote  Value  \\\n",
       "0                                    NaN    147   \n",
       "1                                    NaN     85   \n",
       "2                                    NaN     75   \n",
       "3                                    NaN  2,191   \n",
       "4                                    NaN  6,128   \n",
       "\n",
       "                              Footnotes  \\\n",
       "0                                   NaN   \n",
       "1                                   NaN   \n",
       "2                                   NaN   \n",
       "3  Excluding nationals residing abroad.   \n",
       "4  Excluding nationals residing abroad.   \n",
       "\n",
       "                                              Source  \n",
       "0  World Tourism Organization (UNWTO), Madrid, th...  \n",
       "1  World Tourism Organization (UNWTO), Madrid, th...  \n",
       "2  World Tourism Organization (UNWTO), Madrid, th...  \n",
       "3  World Tourism Organization (UNWTO), Madrid, th...  \n",
       "4  World Tourism Organization (UNWTO), Madrid, th...  "
      ]
     },
     "execution_count": 46,
     "metadata": {},
     "output_type": "execute_result"
    }
   ],
   "source": [
    "df.head()"
   ]
  },
  {
   "cell_type": "markdown",
   "id": "de1f3acf-842b-4e7a-9389-83b2c828e17c",
   "metadata": {},
   "source": [
    "c. Convert non-numeric values to numeric values"
   ]
  },
  {
   "cell_type": "code",
   "execution_count": null,
   "id": "0cacef92-309c-49c2-ba4a-0e4918c029c2",
   "metadata": {},
   "outputs": [
    {
     "data": {
      "text/plain": [
       "dtype('int64')"
      ]
     },
     "execution_count": 48,
     "metadata": {},
     "output_type": "execute_result"
    }
   ],
   "source": [
    "df['Year'].dtype"
   ]
  },
  {
   "cell_type": "code",
   "execution_count": null,
   "id": "6a9a8600-cb5f-4662-bdbf-e5bf88ff9439",
   "metadata": {},
   "outputs": [
    {
     "data": {
      "text/plain": [
       "dtype('O')"
      ]
     },
     "execution_count": 49,
     "metadata": {},
     "output_type": "execute_result"
    }
   ],
   "source": [
    "df['Value'].dtype"
   ]
  },
  {
   "cell_type": "code",
   "execution_count": null,
   "id": "3d668375-c259-4d58-b39d-a12cad9daa60",
   "metadata": {},
   "outputs": [
    {
     "name": "stdout",
     "output_type": "stream",
     "text": [
      "int64\n"
     ]
    }
   ],
   "source": [
    "df['Value'] = df['Value'].replace({',': ''}, regex=True) \n",
    "df['Value'] = pd.to_numeric(df['Value'], errors='coerce')\n",
    "df['Value'] = df['Value'].fillna(0)\n",
    "print(df['Value'].dtype)"
   ]
  },
  {
   "cell_type": "markdown",
   "id": "a9b4cc22-9d66-4a6f-b359-8dee0347369a",
   "metadata": {},
   "source": [
    "**Step3: Select the data**\n",
    "\n",
    "a. Remove unrelated columns"
   ]
  },
  {
   "cell_type": "code",
   "execution_count": null,
   "id": "64d1490c-2cad-4a3c-ab7e-b4b05582aadd",
   "metadata": {
    "scrolled": true
   },
   "outputs": [
    {
     "data": {
      "text/html": [
       "<div>\n",
       "<style scoped>\n",
       "    .dataframe tbody tr th:only-of-type {\n",
       "        vertical-align: middle;\n",
       "    }\n",
       "\n",
       "    .dataframe tbody tr th {\n",
       "        vertical-align: top;\n",
       "    }\n",
       "\n",
       "    .dataframe thead th {\n",
       "        text-align: right;\n",
       "    }\n",
       "</style>\n",
       "<table border=\"1\" class=\"dataframe\">\n",
       "  <thead>\n",
       "    <tr style=\"text-align: right;\">\n",
       "      <th></th>\n",
       "      <th>Country name</th>\n",
       "      <th>Year</th>\n",
       "      <th>Series</th>\n",
       "      <th>Value</th>\n",
       "    </tr>\n",
       "  </thead>\n",
       "  <tbody>\n",
       "    <tr>\n",
       "      <th>0</th>\n",
       "      <td>Afghanistan</td>\n",
       "      <td>2010</td>\n",
       "      <td>Tourism expenditure (millions of US dollars)</td>\n",
       "      <td>147</td>\n",
       "    </tr>\n",
       "    <tr>\n",
       "      <th>1</th>\n",
       "      <td>Afghanistan</td>\n",
       "      <td>2019</td>\n",
       "      <td>Tourism expenditure (millions of US dollars)</td>\n",
       "      <td>85</td>\n",
       "    </tr>\n",
       "    <tr>\n",
       "      <th>2</th>\n",
       "      <td>Afghanistan</td>\n",
       "      <td>2020</td>\n",
       "      <td>Tourism expenditure (millions of US dollars)</td>\n",
       "      <td>75</td>\n",
       "    </tr>\n",
       "    <tr>\n",
       "      <th>3</th>\n",
       "      <td>Albania</td>\n",
       "      <td>2010</td>\n",
       "      <td>Tourist/visitor arrivals (thousands)</td>\n",
       "      <td>2191</td>\n",
       "    </tr>\n",
       "    <tr>\n",
       "      <th>4</th>\n",
       "      <td>Albania</td>\n",
       "      <td>2019</td>\n",
       "      <td>Tourist/visitor arrivals (thousands)</td>\n",
       "      <td>6128</td>\n",
       "    </tr>\n",
       "    <tr>\n",
       "      <th>5</th>\n",
       "      <td>Albania</td>\n",
       "      <td>2020</td>\n",
       "      <td>Tourist/visitor arrivals (thousands)</td>\n",
       "      <td>2604</td>\n",
       "    </tr>\n",
       "    <tr>\n",
       "      <th>6</th>\n",
       "      <td>Albania</td>\n",
       "      <td>2021</td>\n",
       "      <td>Tourist/visitor arrivals (thousands)</td>\n",
       "      <td>5515</td>\n",
       "    </tr>\n",
       "    <tr>\n",
       "      <th>7</th>\n",
       "      <td>Albania</td>\n",
       "      <td>1995</td>\n",
       "      <td>Tourism expenditure (millions of US dollars)</td>\n",
       "      <td>70</td>\n",
       "    </tr>\n",
       "    <tr>\n",
       "      <th>8</th>\n",
       "      <td>Albania</td>\n",
       "      <td>2005</td>\n",
       "      <td>Tourism expenditure (millions of US dollars)</td>\n",
       "      <td>880</td>\n",
       "    </tr>\n",
       "    <tr>\n",
       "      <th>9</th>\n",
       "      <td>Albania</td>\n",
       "      <td>2010</td>\n",
       "      <td>Tourism expenditure (millions of US dollars)</td>\n",
       "      <td>1778</td>\n",
       "    </tr>\n",
       "  </tbody>\n",
       "</table>\n",
       "</div>"
      ],
      "text/plain": [
       "  Country name  Year                                        Series  Value\n",
       "0  Afghanistan  2010  Tourism expenditure (millions of US dollars)    147\n",
       "1  Afghanistan  2019  Tourism expenditure (millions of US dollars)     85\n",
       "2  Afghanistan  2020  Tourism expenditure (millions of US dollars)     75\n",
       "3      Albania  2010          Tourist/visitor arrivals (thousands)   2191\n",
       "4      Albania  2019          Tourist/visitor arrivals (thousands)   6128\n",
       "5      Albania  2020          Tourist/visitor arrivals (thousands)   2604\n",
       "6      Albania  2021          Tourist/visitor arrivals (thousands)   5515\n",
       "7      Albania  1995  Tourism expenditure (millions of US dollars)     70\n",
       "8      Albania  2005  Tourism expenditure (millions of US dollars)    880\n",
       "9      Albania  2010  Tourism expenditure (millions of US dollars)   1778"
      ]
     },
     "execution_count": 52,
     "metadata": {},
     "output_type": "execute_result"
    }
   ],
   "source": [
    "df[['Country name', 'Year', 'Series', 'Value']].head(10)"
   ]
  },
  {
   "cell_type": "markdown",
   "id": "e8cecff0-1dfe-403a-8aa5-52fc524c1b7e",
   "metadata": {},
   "source": [
    "b. Filter the dataset to extract the data focused on Tourist/Visitor arrivals (thousands) in 2021"
   ]
  },
  {
   "cell_type": "code",
   "execution_count": null,
   "id": "4b8236c4-b7f2-4c60-8501-669f81597c34",
   "metadata": {},
   "outputs": [
    {
     "data": {
      "text/html": [
       "<div>\n",
       "<style scoped>\n",
       "    .dataframe tbody tr th:only-of-type {\n",
       "        vertical-align: middle;\n",
       "    }\n",
       "\n",
       "    .dataframe tbody tr th {\n",
       "        vertical-align: top;\n",
       "    }\n",
       "\n",
       "    .dataframe thead th {\n",
       "        text-align: right;\n",
       "    }\n",
       "</style>\n",
       "<table border=\"1\" class=\"dataframe\">\n",
       "  <thead>\n",
       "    <tr style=\"text-align: right;\">\n",
       "      <th></th>\n",
       "      <th>Country name</th>\n",
       "      <th>Year</th>\n",
       "      <th>Series</th>\n",
       "      <th>Value</th>\n",
       "    </tr>\n",
       "  </thead>\n",
       "  <tbody>\n",
       "    <tr>\n",
       "      <th>3</th>\n",
       "      <td>Albania</td>\n",
       "      <td>2010</td>\n",
       "      <td>Tourist/visitor arrivals (thousands)</td>\n",
       "      <td>2191</td>\n",
       "    </tr>\n",
       "    <tr>\n",
       "      <th>4</th>\n",
       "      <td>Albania</td>\n",
       "      <td>2019</td>\n",
       "      <td>Tourist/visitor arrivals (thousands)</td>\n",
       "      <td>6128</td>\n",
       "    </tr>\n",
       "    <tr>\n",
       "      <th>5</th>\n",
       "      <td>Albania</td>\n",
       "      <td>2020</td>\n",
       "      <td>Tourist/visitor arrivals (thousands)</td>\n",
       "      <td>2604</td>\n",
       "    </tr>\n",
       "    <tr>\n",
       "      <th>6</th>\n",
       "      <td>Albania</td>\n",
       "      <td>2021</td>\n",
       "      <td>Tourist/visitor arrivals (thousands)</td>\n",
       "      <td>5515</td>\n",
       "    </tr>\n",
       "    <tr>\n",
       "      <th>13</th>\n",
       "      <td>Algeria</td>\n",
       "      <td>1995</td>\n",
       "      <td>Tourist/visitor arrivals (thousands)</td>\n",
       "      <td>520</td>\n",
       "    </tr>\n",
       "    <tr>\n",
       "      <th>...</th>\n",
       "      <td>...</td>\n",
       "      <td>...</td>\n",
       "      <td>...</td>\n",
       "      <td>...</td>\n",
       "    </tr>\n",
       "    <tr>\n",
       "      <th>2204</th>\n",
       "      <td>Zimbabwe</td>\n",
       "      <td>2005</td>\n",
       "      <td>Tourist/visitor arrivals (thousands)</td>\n",
       "      <td>1559</td>\n",
       "    </tr>\n",
       "    <tr>\n",
       "      <th>2205</th>\n",
       "      <td>Zimbabwe</td>\n",
       "      <td>2010</td>\n",
       "      <td>Tourist/visitor arrivals (thousands)</td>\n",
       "      <td>2239</td>\n",
       "    </tr>\n",
       "    <tr>\n",
       "      <th>2206</th>\n",
       "      <td>Zimbabwe</td>\n",
       "      <td>2019</td>\n",
       "      <td>Tourist/visitor arrivals (thousands)</td>\n",
       "      <td>2294</td>\n",
       "    </tr>\n",
       "    <tr>\n",
       "      <th>2207</th>\n",
       "      <td>Zimbabwe</td>\n",
       "      <td>2020</td>\n",
       "      <td>Tourist/visitor arrivals (thousands)</td>\n",
       "      <td>639</td>\n",
       "    </tr>\n",
       "    <tr>\n",
       "      <th>2208</th>\n",
       "      <td>Zimbabwe</td>\n",
       "      <td>2021</td>\n",
       "      <td>Tourist/visitor arrivals (thousands)</td>\n",
       "      <td>381</td>\n",
       "    </tr>\n",
       "  </tbody>\n",
       "</table>\n",
       "<p>1140 rows × 4 columns</p>\n",
       "</div>"
      ],
      "text/plain": [
       "     Country name  Year                                Series  Value\n",
       "3         Albania  2010  Tourist/visitor arrivals (thousands)   2191\n",
       "4         Albania  2019  Tourist/visitor arrivals (thousands)   6128\n",
       "5         Albania  2020  Tourist/visitor arrivals (thousands)   2604\n",
       "6         Albania  2021  Tourist/visitor arrivals (thousands)   5515\n",
       "13        Algeria  1995  Tourist/visitor arrivals (thousands)    520\n",
       "...           ...   ...                                   ...    ...\n",
       "2204     Zimbabwe  2005  Tourist/visitor arrivals (thousands)   1559\n",
       "2205     Zimbabwe  2010  Tourist/visitor arrivals (thousands)   2239\n",
       "2206     Zimbabwe  2019  Tourist/visitor arrivals (thousands)   2294\n",
       "2207     Zimbabwe  2020  Tourist/visitor arrivals (thousands)    639\n",
       "2208     Zimbabwe  2021  Tourist/visitor arrivals (thousands)    381\n",
       "\n",
       "[1140 rows x 4 columns]"
      ]
     },
     "execution_count": 54,
     "metadata": {},
     "output_type": "execute_result"
    }
   ],
   "source": [
    "df_arrivals = df[df['Series'] == 'Tourist/visitor arrivals (thousands)']\n",
    "\n",
    "df_arrivals[['Country name', 'Year', 'Series', 'Value']]"
   ]
  },
  {
   "cell_type": "code",
   "execution_count": null,
   "id": "877d94d2-5bf1-475f-a7fb-cc106bbe3f3e",
   "metadata": {},
   "outputs": [
    {
     "data": {
      "text/html": [
       "<div>\n",
       "<style scoped>\n",
       "    .dataframe tbody tr th:only-of-type {\n",
       "        vertical-align: middle;\n",
       "    }\n",
       "\n",
       "    .dataframe tbody tr th {\n",
       "        vertical-align: top;\n",
       "    }\n",
       "\n",
       "    .dataframe thead th {\n",
       "        text-align: right;\n",
       "    }\n",
       "</style>\n",
       "<table border=\"1\" class=\"dataframe\">\n",
       "  <thead>\n",
       "    <tr style=\"text-align: right;\">\n",
       "      <th></th>\n",
       "      <th>Country name</th>\n",
       "      <th>Series</th>\n",
       "      <th>Value</th>\n",
       "    </tr>\n",
       "  </thead>\n",
       "  <tbody>\n",
       "    <tr>\n",
       "      <th>6</th>\n",
       "      <td>Albania</td>\n",
       "      <td>Tourist/visitor arrivals (thousands)</td>\n",
       "      <td>5515</td>\n",
       "    </tr>\n",
       "    <tr>\n",
       "      <th>18</th>\n",
       "      <td>Algeria</td>\n",
       "      <td>Tourist/visitor arrivals (thousands)</td>\n",
       "      <td>125</td>\n",
       "    </tr>\n",
       "    <tr>\n",
       "      <th>33</th>\n",
       "      <td>Andorra</td>\n",
       "      <td>Tourist/visitor arrivals (thousands)</td>\n",
       "      <td>1949</td>\n",
       "    </tr>\n",
       "    <tr>\n",
       "      <th>41</th>\n",
       "      <td>Angola</td>\n",
       "      <td>Tourist/visitor arrivals (thousands)</td>\n",
       "      <td>64</td>\n",
       "    </tr>\n",
       "    <tr>\n",
       "      <th>53</th>\n",
       "      <td>Anguilla</td>\n",
       "      <td>Tourist/visitor arrivals (thousands)</td>\n",
       "      <td>28</td>\n",
       "    </tr>\n",
       "    <tr>\n",
       "      <th>...</th>\n",
       "      <td>...</td>\n",
       "      <td>...</td>\n",
       "      <td>...</td>\n",
       "    </tr>\n",
       "    <tr>\n",
       "      <th>2123</th>\n",
       "      <td>United States of America</td>\n",
       "      <td>Tourist/visitor arrivals (thousands)</td>\n",
       "      <td>22100</td>\n",
       "    </tr>\n",
       "    <tr>\n",
       "      <th>2155</th>\n",
       "      <td>Uzbekistan</td>\n",
       "      <td>Tourist/visitor arrivals (thousands)</td>\n",
       "      <td>1881</td>\n",
       "    </tr>\n",
       "    <tr>\n",
       "      <th>2182</th>\n",
       "      <td>Viet Nam</td>\n",
       "      <td>Tourist/visitor arrivals (thousands)</td>\n",
       "      <td>157</td>\n",
       "    </tr>\n",
       "    <tr>\n",
       "      <th>2197</th>\n",
       "      <td>Zambia</td>\n",
       "      <td>Tourist/visitor arrivals (thousands)</td>\n",
       "      <td>554</td>\n",
       "    </tr>\n",
       "    <tr>\n",
       "      <th>2208</th>\n",
       "      <td>Zimbabwe</td>\n",
       "      <td>Tourist/visitor arrivals (thousands)</td>\n",
       "      <td>381</td>\n",
       "    </tr>\n",
       "  </tbody>\n",
       "</table>\n",
       "<p>168 rows × 3 columns</p>\n",
       "</div>"
      ],
      "text/plain": [
       "                  Country name                                Series  Value\n",
       "6                      Albania  Tourist/visitor arrivals (thousands)   5515\n",
       "18                     Algeria  Tourist/visitor arrivals (thousands)    125\n",
       "33                     Andorra  Tourist/visitor arrivals (thousands)   1949\n",
       "41                      Angola  Tourist/visitor arrivals (thousands)     64\n",
       "53                    Anguilla  Tourist/visitor arrivals (thousands)     28\n",
       "...                        ...                                   ...    ...\n",
       "2123  United States of America  Tourist/visitor arrivals (thousands)  22100\n",
       "2155                Uzbekistan  Tourist/visitor arrivals (thousands)   1881\n",
       "2182                  Viet Nam  Tourist/visitor arrivals (thousands)    157\n",
       "2197                    Zambia  Tourist/visitor arrivals (thousands)    554\n",
       "2208                  Zimbabwe  Tourist/visitor arrivals (thousands)    381\n",
       "\n",
       "[168 rows x 3 columns]"
      ]
     },
     "execution_count": 55,
     "metadata": {},
     "output_type": "execute_result"
    }
   ],
   "source": [
    "df_arrivals_2021 = df_arrivals[df_arrivals['Year'] == 2021]\n",
    "df_arrivals_2021[['Country name', 'Series', 'Value']]"
   ]
  },
  {
   "cell_type": "markdown",
   "id": "9793fd8c-6a23-426a-92a7-34ff3582af6c",
   "metadata": {},
   "source": [
    "**Step4: Compute the Mean, Median, and Mode**"
   ]
  },
  {
   "cell_type": "markdown",
   "id": "8bd3ac81-df2f-4d14-9573-241e3cd3b49e",
   "metadata": {},
   "source": [
    "Calculate the mean, median, and mode for Tourist/Visitor arrivals (thousands) in 2021"
   ]
  },
  {
   "cell_type": "markdown",
   "id": "8eaa8f17-4c0a-49a6-af74-4a8f2cbf47b5",
   "metadata": {},
   "source": [
    "a. The mean"
   ]
  },
  {
   "cell_type": "code",
   "execution_count": null,
   "id": "883b289d-4065-404c-9e54-c1baa88d61b2",
   "metadata": {},
   "outputs": [
    {
     "name": "stdout",
     "output_type": "stream",
     "text": [
      "Mean: 2604.87\n"
     ]
    }
   ],
   "source": [
    "mean = df_arrivals_2021['Value'].mean()\n",
    "print(f\"Mean: {mean:.2f}\")"
   ]
  },
  {
   "cell_type": "markdown",
   "id": "33d720fd-907d-4568-9d25-1ca3f268a0a8",
   "metadata": {},
   "source": [
    "b. The median"
   ]
  },
  {
   "cell_type": "code",
   "execution_count": null,
   "id": "b52b1c06-6cb3-41f4-88ca-8724b0fcd0cf",
   "metadata": {},
   "outputs": [
    {
     "name": "stdout",
     "output_type": "stream",
     "text": [
      "Median: 430.00\n"
     ]
    }
   ],
   "source": [
    "median = df_arrivals_2021['Value'].median()\n",
    "print(f\"Median: {median:.2f}\")"
   ]
  },
  {
   "cell_type": "markdown",
   "id": "0ab06a28-7462-4263-8301-d0ee8be3ab9d",
   "metadata": {},
   "source": [
    "c. The mode"
   ]
  },
  {
   "cell_type": "code",
   "execution_count": null,
   "id": "15463e29-5c8c-453a-9808-1941c997c450",
   "metadata": {},
   "outputs": [
    {
     "name": "stdout",
     "output_type": "stream",
     "text": [
      "Mode: 0.0\n"
     ]
    }
   ],
   "source": [
    "mode = float(df_arrivals_2021['Value'].mode().iloc[0])\n",
    "print(f\"Mode: {mode}\")"
   ]
  },
  {
   "cell_type": "markdown",
   "id": "d6249489-a709-4b6e-917d-f1b8d24dcd40",
   "metadata": {},
   "source": [
    "### **2. Using only the Python standard library**"
   ]
  },
  {
   "cell_type": "markdown",
   "id": "19b90ea6-aa1b-464d-affe-8c3b44d7c712",
   "metadata": {},
   "source": [
    "**Step1: Read in the Data and Data Cleaning**\n",
    "\n",
    "- Library Imports: The code utilizes the `csv` library to manage the reading of data from a CSV file.\n",
    "  \n",
    "- File Opening and Reading: The specified CSV file is opened, and `csv.DictReader` processes each row into a dictionary format for easier data handling.\n",
    "\n",
    "- Data cleaning and filtering: Process the header by replacing empty column names with \"Country name,\" format and convert data, and extract the 2021 \"Tourist/visitor arrivals (thousands)\" data."
   ]
  },
  {
   "cell_type": "code",
   "execution_count": null,
   "id": "d98dda39-5ee7-467e-988c-039a04504b9f",
   "metadata": {},
   "outputs": [
    {
     "name": "stdout",
     "output_type": "stream",
     "text": [
      "{'Country name': 'Albania', 'Year': '2021', 'Series': 'Tourist/visitor arrivals (thousands)', 'Value': 5515.0}\n",
      "{'Country name': 'Algeria', 'Year': '2021', 'Series': 'Tourist/visitor arrivals (thousands)', 'Value': 125.0}\n",
      "{'Country name': 'Andorra', 'Year': '2021', 'Series': 'Tourist/visitor arrivals (thousands)', 'Value': 1949.0}\n",
      "{'Country name': 'Angola', 'Year': '2021', 'Series': 'Tourist/visitor arrivals (thousands)', 'Value': 64.0}\n",
      "{'Country name': 'Anguilla', 'Year': '2021', 'Series': 'Tourist/visitor arrivals (thousands)', 'Value': 28.0}\n"
     ]
    }
   ],
   "source": [
    "import csv\n",
    "\n",
    "filename = 'SYB66_176_202310_Tourist-Visitors Arrival and Expenditure.csv'\n",
    "\n",
    "data = []\n",
    "with open(filename, newline='', encoding='ISO-8859-1') as csvfile:\n",
    "    reader = csv.reader(csvfile)\n",
    "    next(reader)\n",
    "    headers = next(reader)\n",
    "    headers = ['Country name' if col == '' else col for col in headers]\n",
    "    for row in reader:\n",
    "        row_dict = dict(zip(headers, row))\n",
    "        try:\n",
    "            row_dict['Value'] = float(row_dict['Value'].replace(',', '')) if row_dict['Value'] else 0.0\n",
    "        except ValueError:\n",
    "            row_dict['Value'] = 0.0\n",
    "        if row_dict['Series'] == 'Tourist/visitor arrivals (thousands)' and row_dict['Year'] == '2021':\n",
    "            filtered_row = {\n",
    "                'Country name': row_dict['Country name'],\n",
    "                'Year': row_dict['Year'],\n",
    "                'Series': row_dict['Series'],\n",
    "                'Value': row_dict['Value']\n",
    "            }\n",
    "            data.append(filtered_row)\n",
    "            \n",
    "for row in data[:5]:  \n",
    "    print(row)"
   ]
  },
  {
   "cell_type": "markdown",
   "id": "e5d6da8b-e1aa-4fcd-8476-2bc3fedb0dd9",
   "metadata": {},
   "source": [
    "**Step2: Compute the Mean, Median, and Mode**"
   ]
  },
  {
   "cell_type": "markdown",
   "id": "3e0de55d-3020-463e-a8b5-d85df03deadc",
   "metadata": {},
   "source": [
    "a. The mean\n",
    "\n",
    "To calculate the mean:\n",
    "- Sum the Values: Add up all the `Value` entries (tourist arrivals) from the `data` list.\n",
    "- Count the Entries: Count how many data points (countries) are in the `data` list.\n",
    "- Divide the Sum by the Count: Divide the total sum by the number of entries to get the mean."
   ]
  },
  {
   "cell_type": "code",
   "execution_count": null,
   "id": "ccbc0f6a-23ab-4e55-be3f-8d212d4176a7",
   "metadata": {},
   "outputs": [
    {
     "name": "stdout",
     "output_type": "stream",
     "text": [
      "Mean: 2604.87\n"
     ]
    }
   ],
   "source": [
    "total = sum(row['Value'] for row in data)  \n",
    "count = len(data)  \n",
    "mean = total / count if count > 0 else 0  \n",
    "print(f\"Mean: {mean:.2f}\")"
   ]
  },
  {
   "cell_type": "markdown",
   "id": "b1646188-22c6-44bd-b617-b6741bf517d1",
   "metadata": {},
   "source": [
    "b. The median\n",
    "\n",
    "To calculate the median:\n",
    "- Extract the Values: Collect all the Value entries (tourist arrivals) from the data list.\n",
    "- Sort the Values: Arrange the values in ascending order.\n",
    "- Find the Middle Value:\n",
    "If the number of values is odd, the median is the middle value in the sorted list.\n",
    "If the number of values is even, the median is the average of the two middle values."
   ]
  },
  {
   "cell_type": "code",
   "execution_count": null,
   "id": "52a97af4-b080-4276-be55-4174da0c2c85",
   "metadata": {},
   "outputs": [
    {
     "name": "stdout",
     "output_type": "stream",
     "text": [
      "Median: 430.00\n"
     ]
    }
   ],
   "source": [
    "values = [row['Value'] for row in data]  \n",
    "values.sort()  \n",
    "\n",
    "count = len(values)\n",
    "if count % 2 == 1:\n",
    "    median = values[count // 2]  \n",
    "else:\n",
    "    median = (values[count // 2 - 1] + values[count // 2]) / 2 \n",
    "print(f\"Median: {median:.2f}\")"
   ]
  },
  {
   "cell_type": "markdown",
   "id": "2ad36f9a-f1af-4733-b29a-326d9a0fcac4",
   "metadata": {},
   "source": [
    "c. The mode\n",
    "\n",
    "To calculate the mode:\n",
    "- Extract the Values: Collect all the Value entries (tourist arrivals) from the data list.\n",
    "- Count the Frequency: Create a dictionary to track how many times each value appears.\n",
    "- Identify the Mode: The mode is the value with the highest frequency."
   ]
  },
  {
   "cell_type": "code",
   "execution_count": null,
   "id": "6b1a89f9-237a-49a6-8b98-06523949adff",
   "metadata": {},
   "outputs": [
    {
     "name": "stdout",
     "output_type": "stream",
     "text": [
      "Mode: 0.0\n"
     ]
    }
   ],
   "source": [
    "values = [row['Value'] for row in data]  \n",
    "value_counts = {}\n",
    "\n",
    "for value in values:\n",
    "    if value in value_counts:\n",
    "        value_counts[value] += 1\n",
    "    else:\n",
    "        value_counts[value] = 1\n",
    "\n",
    "max_count = max(value_counts.values())\n",
    "modes = [key for key, count in value_counts.items() if count == max_count]\n",
    "mode_value = modes[0] if modes else None  \n",
    "\n",
    "print(f\"Mode: {mode_value}\")"
   ]
  },
  {
   "cell_type": "markdown",
   "id": "fcefb374-7cb6-40f4-a144-259d5f466ad0",
   "metadata": {},
   "source": [
    "### **3. Data Visualization**\n",
    "\n",
    "- Filter data for the specific metric and year, then sort by value for display:\n",
    "Filter the data for \"Tourist/Visitor Arrivals (thousands)\" in 2021.\n",
    "\n",
    "- Determine the maximum bar length:\n",
    "Keep the chart compact for readability on narrow screens.\n",
    "Find the highest value in the dataset to scale the bars proportionally.\n",
    "\n",
    "- Generate the textual bar chart:\n",
    "Scale the bar length relative to the maximum value.\n",
    "Format and display each country's name alongside its bar.\n",
    "Use '■' to represent the length of the bars visually."
   ]
  },
  {
   "cell_type": "code",
   "execution_count": null,
   "id": "b6a77f9c-4b39-49b8-9171-98545c1dd270",
   "metadata": {},
   "outputs": [
    {
     "name": "stdout",
     "output_type": "stream",
     "text": [
      "Tourist/Visitor Arrivals (Thousands) in 2021 by Country\n",
      "================================================================================\n",
      "France               | ■■■■■■■■■■■■■■■■■■■■■■■■■■■■■■■■■■■■■■■■■■■■■■■■■■ 48395K\n",
      "Mexico               | ■■■■■■■■■■■■■■■■■■■■■■■■■■■■■■■■ 31860K\n",
      "Spain                | ■■■■■■■■■■■■■■■■■■■■■■■■■■■■■■■■ 31181K\n",
      "Türkiye              | ■■■■■■■■■■■■■■■■■■■■■■■■■■■■■■ 29925K\n",
      "Italy                | ■■■■■■■■■■■■■■■■■■■■■■■■■■■ 26888K\n",
      "United States of Ame | ■■■■■■■■■■■■■■■■■■■■■■ 22100K\n",
      "Denmark              | ■■■■■■■■■■■■■■■■■■■ 18405K\n",
      "Greece               | ■■■■■■■■■■■■■■■ 14705K\n",
      "Austria              | ■■■■■■■■■■■■■ 12728K\n",
      "Germany              | ■■■■■■■■■■■■ 11688K\n",
      "United Arab Emirates | ■■■■■■■■■■■ 11479K\n",
      "Croatia              | ■■■■■■■■■■ 10641K\n",
      "Poland               | ■■■■■■■■■■ 9722K\n",
      "Hungary              | ■■■■■■■■ 7929K\n",
      "India                | ■■■■■■■ 7010K\n",
      "Romania              | ■■■■■■■ 6789K\n",
      "Portugal             | ■■■■■■ 6345K\n",
      "United Kingdom       | ■■■■■■ 6287K\n",
      "Netherlands (Kingdom | ■■■■■■ 6248K\n",
      "Albania              | ■■■■■ 5515K\n",
      "Dominican Republic   | ■■■■■ 4994K\n",
      "Switzerland          | ■■■■ 4390K\n",
      "Ukraine              | ■■■■ 3973K\n",
      "Morocco              | ■■■ 3722K\n",
      "China, Macao SAR     | ■■■ 3697K\n",
      "Bahrain              | ■■■ 3612K\n",
      "Saudi Arabia         | ■■■ 3477K\n",
      "Belarus              | ■■■ 3361K\n",
      "Belgium              | ■■■ 3243K\n",
      "Kyrgyzstan           | ■■■ 3169K\n",
      "Canada               | ■■■ 3062K\n",
      "Sweden               | ■■■ 2990K\n",
      "Puerto Rico          | ■■ 2755K\n",
      "Tunisia              | ■■ 2475K\n",
      "Bulgaria             | ■■ 2300K\n",
      "South Africa         | ■■ 2256K\n",
      "Colombia             | ■■ 2155K\n",
      "Jordan               | ■■ 2012K\n",
      "Andorra              | ■■ 1949K\n",
      "Cyprus               | ■■ 1937K\n",
      "Uzbekistan           | ■ 1881K\n",
      "Slovenia             | ■ 1832K\n",
      "Georgia              | ■ 1577K\n",
      "Montenegro           | ■ 1554K\n",
      "Indonesia            | ■ 1546K\n",
      "Jamaica              | ■ 1464K\n",
      "Norway               | ■ 1435K\n",
      "Costa Rica           | ■ 1347K\n",
      "Kazakhstan           | ■ 1330K\n",
      "Maldives             | ■ 1322K\n",
      "El Salvador          | ■ 1219K\n",
      "Iran (Islamic Republ | ■ 989K\n",
      "Malta                | ■ 968K\n",
      "Republic of Korea    |  967K\n",
      "Lithuania            |  948K\n",
      "United Rep. of Tanza |  923K\n",
      "Bahamas              |  891K\n",
      "Lebanon              |  890K\n",
      "Serbia               |  871K\n",
      "Armenia              |  870K\n",
      "Estonia              |  808K\n",
      "Aruba                |  807K\n",
      "Finland              |  807K\n",
      "Luxembourg           |  756K\n",
      "Brazil               |  746K\n",
      "Iceland              |  698K\n",
      "Ecuador              |  669K\n",
      "Ghana                |  624K\n",
      "Panama               |  618K\n",
      "Qatar                |  611K\n",
      "Guatemala            |  602K\n",
      "Côte dIvoire        |  576K\n",
      "Zambia               |  554K\n",
      "Ethiopia             |  518K\n",
      "Nigeria              |  518K\n",
      "Uganda               |  513K\n",
      "Bosnia and Herzegovi |  502K\n",
      "Mozambique           |  492K\n",
      "Rwanda               |  480K\n",
      "Latvia               |  478K\n",
      "Oman                 |  464K\n",
      "Honduras             |  459K\n",
      "Peru                 |  444K\n",
      "Malawi               |  432K\n",
      "Thailand             |  428K\n",
      "Turks and Caicos Isl |  405K\n",
      "Israel               |  397K\n",
      "Zimbabwe             |  381K\n",
      "Cuba                 |  356K\n",
      "Gambia               |  332K\n",
      "Singapore            |  325K\n",
      "Argentina            |  297K\n",
      "Tajikistan           |  296K\n",
      "North Macedonia      |  294K\n",
      "Martinique           |  291K\n",
      "Curaçao              |  265K\n",
      "Réunion              |  251K\n",
      "Sint Maarten (Dutch  |  249K\n",
      "Australia            |  246K\n",
      "Japan                |  246K\n",
      "Namibia              |  233K\n",
      "Nicaragua            |  222K\n",
      "Belize               |  219K\n",
      "Monaco               |  218K\n",
      "New Zealand          |  205K\n",
      "Saint Lucia          |  199K\n",
      "Cambodia             |  196K\n",
      "Sri Lanka            |  194K\n",
      "Chile                |  190K\n",
      "Seychelles           |  183K\n",
      "Bolivia (Plurin. Sta |  180K\n",
      "Mauritius            |  180K\n",
      "Eswatini             |  170K\n",
      "Antigua and Barbuda  |  169K\n",
      "Mali                 |  168K\n",
      "Philippines          |  164K\n",
      "Guyana               |  158K\n",
      "Viet Nam             |  157K\n",
      "Nepal                |  151K\n",
      "Haiti                |  148K\n",
      "Barbados             |  144K\n",
      "Other non-specified  |  140K\n",
      "Bangladesh           |  135K\n",
      "Cabo Verde           |  135K\n",
      "Malaysia             |  135K\n",
      "Myanmar              |  131K\n",
      "Algeria              |  125K\n",
      "Djibouti             |  114K\n",
      "Burkina Faso         |  106K\n",
      "Paraguay             |  95K\n",
      "San Marino           |  94K\n",
      "China, Hong Kong SAR |  89K\n",
      "Kuwait               |  85K\n",
      "French Polynesia     |  83K\n",
      "Guam                 |  79K\n",
      "Bermuda              |  72K\n",
      "Liechtenstein        |  70K\n",
      "Republic of Moldova  |  69K\n",
      "Angola               |  64K\n",
      "British Virgin Islan |  56K\n",
      "Grenada              |  47K\n",
      "Trinidad and Tobago  |  41K\n",
      "Chad                 |  40K\n",
      "Sierra Leone         |  40K\n",
      "Mongolia             |  33K\n",
      "Fiji                 |  32K\n",
      "Comoros              |  29K\n",
      "Anguilla             |  28K\n",
      "Cook Islands         |  26K\n",
      "Saint Vincent & Gren |  24K\n",
      "Saint Kitts and Nevi |  20K\n",
      "Cayman Islands       |  17K\n",
      "Papua New Guinea     |  17K\n",
      "Dominica             |  15K\n",
      "Sao Tome and Princip |  15K\n",
      "Northern Mariana Isl |  13K\n",
      "New Caledonia        |  12K\n",
      "Timor-Leste          |  6K\n",
      "Brunei Darussalam    |  4K\n",
      "Samoa                |  3K\n",
      "Montserrat           |  2K\n",
      "Solomon Islands      |  1K\n",
      "Bhutan               |  0K\n",
      "Kiribati             |  0K\n",
      "Marshall Islands     |  0K\n",
      "Niue                 |  0K\n",
      "Tonga                |  0K\n",
      "Tuvalu               |  0K\n",
      "================================================================================\n"
     ]
    }
   ],
   "source": [
    "def generate_bar_chart(data):\n",
    "    max_value = max(row['Value'] for row in data)  \n",
    "    max_bar_length = 50  \n",
    "    \n",
    "    data = sorted(data, key=lambda x: x['Value'], reverse=True)\n",
    "    \n",
    "    print(\"Tourist/Visitor Arrivals (Thousands) in 2021 by Country\")\n",
    "    print(\"=\" * 80)\n",
    "    for row in data:\n",
    "        country = row['Country name']\n",
    "        value = row['Value']\n",
    "        \n",
    "        bar_length = int((value / max_value) * max_bar_length) if max_value > 0 else 0\n",
    "        bar = \"■\" * bar_length  \n",
    "        \n",
    "        print(f\"{country[:20]:<20} | {bar} {value:.0f}K\")\n",
    "    print(\"=\" * 80)\n",
    "\n",
    "generate_bar_chart(data)"
   ]
  },
  {
   "cell_type": "markdown",
   "id": "1b189530-a6c0-4d65-9a30-7b2ea0664897",
   "metadata": {},
   "source": [
    "### **4. What I found**"
   ]
  },
  {
   "cell_type": "markdown",
   "id": "3ab3fbbc-1d27-42fb-a5fd-4aae5da497fa",
   "metadata": {},
   "source": [
    "- This data is from 2021 and is affected by the COVID-19 pandemic, so it is important to note that the situation may be different post-pandemic as travel restrictions and other factors have changed.\n",
    "- France recorded the highest number of tourist arrivals in 2021 with over 48 million visitors, showing its sustained popularity as a global tourism leader. Mexico (31.9 million) and Spain (31.1 million) also saw substantial visitor numbers, indicating their draw as premier vacation destinations.\n",
    "- Countries like the United States and Denmark showed solid visitor counts, yet emerging regions like the Middle East (United Arab Emirates) and certain Asian nations (India, Thailand) had notable arrivals, pointing to an expansion of tourism beyond traditionally dominant destinations. \n",
    "- Countries in the Asia-Pacific, such as Australia (246K) and Japan (246K), had lower arrival figures, potentially due to strict travel restrictions and delayed reopenings during the pandemic. "
   ]
  },
  {
   "cell_type": "code",
   "execution_count": null,
   "id": "6eb3ec85-7b91-4c30-81fe-2c04909cbfc1",
   "metadata": {},
   "outputs": [],
   "source": []
  }
 ],
 "metadata": {
  "kernelspec": {
   "display_name": "base",
   "language": "python",
   "name": "python3"
  },
  "language_info": {
   "codemirror_mode": {
    "name": "ipython",
    "version": 3
   },
   "file_extension": ".py",
   "mimetype": "text/x-python",
   "name": "python",
   "nbconvert_exporter": "python",
   "pygments_lexer": "ipython3",
   "version": "3.12.4"
  }
 },
 "nbformat": 4,
 "nbformat_minor": 5
}
